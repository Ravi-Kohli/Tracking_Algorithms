{
 "cells": [
  {
   "cell_type": "markdown",
   "metadata": {},
   "source": [
    "# Simple Kalman Filter Falling Ball Example"
   ]
  },
  {
   "cell_type": "markdown",
   "metadata": {},
   "source": [
    "This project is going to show how a Kalman filter works by using the example of a falling ball.\n",
    "\n",
    "From our laws of physics, we know that the trajectory of the ball is: $ x_t = x_{t-1} + v_{t-1} \\Delta t + \\frac{1}{2} a_{t-1} (\\Delta t)^2 $ \n",
    "\n",
    "and the velocity of the ball (assuming no drag) is given by: $ v_t = v_{t-1} + a_{t-1} \\Delta t $\n",
    "\n",
    "our state vector will be: $ \\vec{X_t} = \\begin{pmatrix} x_t \\\\ v_t \\end{pmatrix} $"
   ]
  },
  {
   "cell_type": "code",
   "execution_count": 1,
   "metadata": {},
   "outputs": [],
   "source": [
    "# installing the library dependencies\n",
    "import numpy as np\n",
    "import matplotlib.pyplot as plt\n",
    "%matplotlib inline"
   ]
  },
  {
   "cell_type": "code",
   "execution_count": 2,
   "metadata": {},
   "outputs": [],
   "source": [
    "# defining the control variables\n",
    "g = -9.81        # m/s^2\n",
    "t_end = 5       # s\n",
    "n = 20          # number of data points\n",
    "dt = t_end/n     # time step in seconds\n",
    "control_variables = [g]\n",
    "noise_matrix = np.zeros((2,1))"
   ]
  },
  {
   "cell_type": "markdown",
   "metadata": {},
   "source": [
    "Now we will calculate the predicted state of the matrix, with our matrices as follows: $A = \\begin{pmatrix} 1& \\Delta T\\\\0&1\\end{pmatrix} $ and $ B = \\begin{pmatrix} \\frac{1}{2}(\\Delta T)^2 \\\\ 1\\end{pmatrix} $"
   ]
  },
  {
   "cell_type": "code",
   "execution_count": 3,
   "metadata": {},
   "outputs": [],
   "source": [
    "# calculating the predicted state\n",
    "\n",
    "def calculate_predicted_state(state_vector, control_variable_vector, dt, noise_matrix):\n",
    "    \n",
    "    # defining the A matrix\n",
    "    A = np.matrix([[1, dt], [0, 1]])\n",
    "    \n",
    "    #defining the B matrix\n",
    "    B = np.matrix([[0.5*(dt**2)],[1]])\n",
    "    \n",
    "    #calculating the predicted state\n",
    "    predicted_x = A * state_vector + B * control_variable_vector[0] + noise_matrix\n",
    "    \n",
    "    return predicted_x"
   ]
  },
  {
   "cell_type": "code",
   "execution_count": 4,
   "metadata": {},
   "outputs": [],
   "source": [
    "def calculate_new_covariance_matrix(previous_covariance_matrix, dt ,noise_covariance_matrix=np.zeros((2,1))):\n",
    "    # defining the A matrix\n",
    "    A = np.matrix([[1, dt], [0, 1]])\n",
    "    \n",
    "    #defining the Q matrix - for now we will set this to 0\n",
    "    Q = np.zeros((2,2))\n",
    "    \n",
    "    #calculating the new P matrix\n",
    "    p_new = A * previous_covariance_matrix * A.transpose() + Q\n",
    "    \n",
    "    #for now, we will just get the diagonal terms from the matrix\n",
    "    p_new_diag = np.diag(np.diag(p_new))\n",
    "    \n",
    "    return p_new_diag"
   ]
  },
  {
   "cell_type": "code",
   "execution_count": 5,
   "metadata": {},
   "outputs": [],
   "source": [
    "def calculate_kalman_gain(state_covariance_matrix, measurement_noise_covariance_matrix):\n",
    "    #defining the H matrix\n",
    "    H = np.identity(2)\n",
    "    \n",
    "    # calculating the kalman gain\n",
    "    kalman_gain_numerator = state_covariance_matrix * H.transpose()\n",
    "    kalman_gain_denominator = H * state_covariance_matrix * H.transpose() + measurement_noise_covariance_matrix\n",
    "    \n",
    "    # based on the assumption that the numerator and denominators are diagonal matrices, we can extract\n",
    "    # the diagonal elements into a list and divide them and then put back into a matrix\n",
    "    kalman_numerator_list = np.diag(kalman_gain_numerator)\n",
    "    kalman_denominator_list = np.diag(kalman_gain_denominator)\n",
    "    \n",
    "    #getting the kalman gain matrix\n",
    "    kalman_gain_matrix = np.matrix(np.diag(np.divide(kalman_numerator_list,kalman_denominator_list)))\n",
    "    \n",
    "    return kalman_gain_matrix"
   ]
  },
  {
   "cell_type": "code",
   "execution_count": 6,
   "metadata": {},
   "outputs": [],
   "source": [
    "def process_next_observation(observation_vector,adjustment_noise= np.zeros((2,1))):\n",
    "    #defining the C matrix\n",
    "    C = np.identity(2)\n",
    "    \n",
    "    # processing the observation\n",
    "    y_new = C * observation_vector + adjustment_noise\n",
    "    \n",
    "    return y_new"
   ]
  },
  {
   "cell_type": "code",
   "execution_count": 7,
   "metadata": {},
   "outputs": [],
   "source": [
    "def calculate_updated_state(kalman_gain_matrix,predicted_state_vector,observation_vector):\n",
    "    # defining the H matrix\n",
    "    H = np.identity(2)\n",
    "    \n",
    "    #calculating the new x vector\n",
    "    x_updated_vector = predicted_state_vector + kalman_gain_matrix * (observation_vector - predicted_state_vector)\n",
    "    \n",
    "    return x_updated_vector"
   ]
  },
  {
   "cell_type": "code",
   "execution_count": 8,
   "metadata": {},
   "outputs": [],
   "source": [
    "def calculate_updated_process_covariance_matrix(kalman_gain_matrix,process_covariance_matrix):\n",
    "    #defining the I and H matrices\n",
    "    I = np.identity(2)\n",
    "    H = np.identity(2)\n",
    "    \n",
    "    # calculating the updated covariance matrix\n",
    "    p_updated = (I - kalman_gain_matrix * H) * process_covariance_matrix\n",
    "    \n",
    "    return p_updated"
   ]
  },
  {
   "cell_type": "code",
   "execution_count": 9,
   "metadata": {},
   "outputs": [],
   "source": [
    "# plotting the real path of the ball\n",
    "t = np.linspace(0,t_end,100)\n",
    "x = 100 + g/2 * t ** 2"
   ]
  },
  {
   "cell_type": "code",
   "execution_count": 10,
   "metadata": {},
   "outputs": [],
   "source": [
    "# generating the 'observed values of the ball'\n",
    "t_obs = np.linspace(0,t_end,n)\n",
    "x_obs = [(100 + g/2 * (t ** 2) + np.random.normal(0,3)) for t in t_obs]\n",
    "v_obs = [(0 + g * t + np.random.normal(0,3)) for t in t_obs]"
   ]
  },
  {
   "cell_type": "code",
   "execution_count": 25,
   "metadata": {},
   "outputs": [],
   "source": [
    "#define the initial state variables\n",
    "x_initial = np.matrix([[140],[3]])\n",
    "p_initial = np.matrix(np.diag([3,3]))\n",
    "\n",
    "# set up the current variables\n",
    "x_current = x_initial\n",
    "p_current = p_initial\n",
    "\n",
    "#set up the empty list\n",
    "x_kalman = [x_initial[0]]\n",
    "p_kalman1 = [p_initial.item(0,0)]\n",
    "p_kalman2 = [p_initial.item(1,1)]\n",
    "\n",
    "for k in range(1,n):\n",
    "    #calculate the predicted state\n",
    "    x_predicted = calculate_predicted_state(x_current,control_variables,dt,noise_matrix)\n",
    "\n",
    "    # calculate the predicted covariance matrix\n",
    "    p_predicted = calculate_new_covariance_matrix(p_current, dt ,noise_matrix)\n",
    "\n",
    "    # calculate the Kalman Gain matrix\n",
    "    kalman_gain_matrix = calculate_kalman_gain(p_predicted, np.diag([0.25,0.25])) \n",
    "\n",
    "    # process the newest observation\n",
    "    observation = np.matrix([[x_obs[k]],[v_obs[k]]])\n",
    "\n",
    "    processed_observation = process_next_observation(observation,noise_matrix)\n",
    "\n",
    "    # calculate the updated state\n",
    "    x_updated = calculate_updated_state(kalman_gain_matrix,x_predicted,processed_observation)\n",
    "\n",
    "    # calculating the updated process covariance matrix\n",
    "    p_updated = calculate_updated_process_covariance_matrix(kalman_gain_matrix,p_predicted)\n",
    "\n",
    "    x_kalman.append(x_updated[0])\n",
    "    p_kalman1.append(p_updated.item(0,0))\n",
    "    p_kalman2.append(p_updated.item(1,1))"
   ]
  },
  {
   "cell_type": "code",
   "execution_count": 26,
   "metadata": {},
   "outputs": [
    {
     "data": {
      "image/png": "[encoded data removed]",
      "text/plain": [
       "<Figure size 432x288 with 1 Axes>"
      ]
     },
     "metadata": {
      "needs_background": "light"
     },
     "output_type": "display_data"
    }
   ],
   "source": [
    "plt.plot(t,x, label='True Trajectory')\n",
    "plt.plot(t_obs,x_obs,label='Observed Data')\n",
    "plt.plot(t_obs,np.reshape(x_kalman,(n,)),label='Kalman Filter')\n",
    "plt.grid(True)\n",
    "plt.title('Kalman Filter Tracking Falling Ball')\n",
    "plt.xlabel('Time (s)')\n",
    "plt.ylabel('Height (m)')\n",
    "plt.legend()\n",
    "\n",
    "plt.show()"
   ]
  },
  {
   "cell_type": "code",
   "execution_count": 16,
   "metadata": {},
   "outputs": [
    {
     "data": {
      "image/png": "[encoded data removed]",
      "text/plain": [
       "<Figure size 432x288 with 2 Axes>"
      ]
     },
     "metadata": {
      "needs_background": "light"
     },
     "output_type": "display_data"
    }
   ],
   "source": [
    "plt.subplot(2,1,1)\n",
    "plt.plot(t_obs,np.reshape(p_kalman1,(n,)),label='Kalman Filter Process Position Covariance')\n",
    "plt.grid(True)\n",
    "plt.xlabel('Time (s)')\n",
    "plt.legend()\n",
    "\n",
    "plt.subplot(2,1,2)\n",
    "plt.plot(t_obs,np.reshape(p_kalman2,(n,)),label='Kalman Filter Process Velocity Covariance')\n",
    "plt.grid(True)\n",
    "plt.xlabel('Time (s)')\n",
    "plt.legend()\n",
    "\n",
    "plt.show()"
   ]
  }
 ],
 "metadata": {
  "kernelspec": {
   "display_name": "Python 3",
   "language": "python",
   "name": "python3"
  },
  "language_info": {
   "codemirror_mode": {
    "name": "ipython",
    "version": 3
   },
   "file_extension": ".py",
   "mimetype": "text/x-python",
   "name": "python",
   "nbconvert_exporter": "python",
   "pygments_lexer": "ipython3",
   "version": "3.7.3"
  }
 },
 "nbformat": 4,
 "nbformat_minor": 2
}
