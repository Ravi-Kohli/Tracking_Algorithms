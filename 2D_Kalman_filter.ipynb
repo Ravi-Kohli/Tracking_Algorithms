{
 "cells": [
  {
   "cell_type": "markdown",
   "metadata": {},
   "source": [
    "# 2D Simple Kalman Filter"
   ]
  },
  {
   "cell_type": "markdown",
   "metadata": {},
   "source": [
    "**Overall steps:**\n",
    "1. Calculate the predicted state\n",
    "2. Calculate the state covariance\n",
    "3. Calculate the Kalman Gain\n",
    "4. Calculate the new observation\n",
    "5. Update the state\n",
    "6. Update the process covariance matrix"
   ]
  },
  {
   "cell_type": "code",
   "execution_count": 1,
   "metadata": {},
   "outputs": [],
   "source": [
    "# installing the required dependencies\n",
    "import numpy as np\n",
    "import pandas as pd\n",
    "import matplotlib.pyplot as plt"
   ]
  },
  {
   "cell_type": "code",
   "execution_count": 2,
   "metadata": {},
   "outputs": [],
   "source": [
    "#defining the control variables\n",
    "\n",
    "g = -9.81    # m/s^2\n",
    "\n",
    "ctrl = {\n",
    "    'a_x': 0,\n",
    "    'a_y': g,\n",
    "}\n",
    "\n",
    "ctrl_matrix = np.matrix([[ctrl['a_x']],[ctrl['a_y']]])\n",
    "# defining the noise matrix - for now we will set it to a zero matrix\n",
    "noise_matrix = np.zeros((4,1))\n",
    "z_matrix = np.zeros((4,1))\n",
    "measurement_noise_matrix = np.matrix(np.diag([625,0,36,0]))"
   ]
  },
  {
   "cell_type": "code",
   "execution_count": 3,
   "metadata": {},
   "outputs": [],
   "source": [
    "# defining our time steps\n",
    "dt = 1    #seconds"
   ]
  },
  {
   "cell_type": "markdown",
   "metadata": {},
   "source": [
    "For 2D, the state vector will be of the form $ \\vec{X} = [x , y , \\dot{x} , \\dot{y}] ^ T $\n",
    "\n",
    "When calculating the predicted state, we will use $ \\vec{X_{k_p}} = A \\vec{x_{k-1}} + B \\vec{u_{k}} + \\vec{w_k} $, \n",
    "\n",
    "where $ A = \\begin{pmatrix} 1 & 0 & \\Delta T &0\\\\0&1&0&\\Delta T\\\\0&0&1&0\\\\0&0&0&1\\end{pmatrix} $ and $ B = \\begin{pmatrix} \\frac{1}{2} (\\Delta T)^2 & 0 \\\\ 0 & \\frac{1}{2} (\\Delta T)^2 \\\\ \\Delta T & 0 \\\\ 0 & \\Delta T\\end{pmatrix} $"
   ]
  },
  {
   "cell_type": "code",
   "execution_count": 4,
   "metadata": {},
   "outputs": [],
   "source": [
    "# calculating the predicted state\n",
    "\n",
    "def calculate_predicted_state(state_vector, control_variable_vector, dt, noise_matrix):\n",
    "    \n",
    "    # defining the A matrix\n",
    "    A = np.matrix([[1, 0, dt, 0], [0, 1, 0, dt], [0, 0, 1, 0], [0, 0, 0, 1]])\n",
    "    \n",
    "    #defining the B matrix\n",
    "    B = np.matrix([[0.5*(dt**2), 0],[0,0.5*(dt**2)],[dt,0],[0,dt]])\n",
    "    \n",
    "    #calculating the predicted state\n",
    "    predicted_x = A * state_vector + B * control_variable_vector + noise_matrix\n",
    "    \n",
    "    return predicted_x\n",
    "    "
   ]
  },
  {
   "cell_type": "markdown",
   "metadata": {},
   "source": [
    "We will calculate the state covariance matrix by doing the following:\n",
    "\n",
    "$ P_{k_p} = A P_{k-1} A^T + Q $, where $A$ is the same matrix as above and $Q$ s the noise process covariance matrix"
   ]
  },
  {
   "cell_type": "code",
   "execution_count": 5,
   "metadata": {},
   "outputs": [],
   "source": [
    "def calculate_new_covariance_matrix(previous_covariance_matrix, dt ,noise_covariance_matrix=np.zeros((4,1))):\n",
    "    # defining the A matrix\n",
    "    A = np.matrix([ [1, 0, dt, 0], [0, 1, 0, dt], [0, 0, 1, 0], [0, 0, 0, 1]])\n",
    "    \n",
    "    #defining the Q matrix - for now we will set this to 0\n",
    "    Q = np.zeros((4,4))\n",
    "    \n",
    "    #calculating the new P matrix\n",
    "    p_new = A * previous_covariance_matrix * A.transpose() + Q\n",
    "    \n",
    "    #for now, we will just get the diagonal terms from the matrix\n",
    "    p_new_diag = np.diag(np.diag(p_new))\n",
    "    \n",
    "    return p_new_diag"
   ]
  },
  {
   "cell_type": "markdown",
   "metadata": {},
   "source": [
    "We will now calculate the Kalman Gain matrix: $ Kalman Gain = \\frac{P_{k_p} H^T}{H P_{k_p} H^T + R} $\n",
    "\n",
    "where $R$ is the measurement covariance matrix, and $H$ is to resize the matrix into the correct form"
   ]
  },
  {
   "cell_type": "code",
   "execution_count": 6,
   "metadata": {},
   "outputs": [],
   "source": [
    "def calculate_kalman_gain(state_covariance_matrix, measurement_noise_covariance_matrix):\n",
    "    #defining the H matrix\n",
    "    H = np.identity(4)\n",
    "    \n",
    "    # calculating the kalman gain\n",
    "    kalman_gain_numerator = state_covariance_matrix * H.transpose()\n",
    "    kalman_gain_denominator = H * state_covariance_matrix * H.transpose() + measurement_noise_covariance_matrix\n",
    "    \n",
    "    # based on the assumption that the numerator and denominators are diagonal matrices, we can extract\n",
    "    # the diagonal elements into a list and divide them and then put back into a matrix\n",
    "    kalman_numerator_list = np.diag(kalman_gain_numerator)\n",
    "    kalman_denominator_list = np.diag(kalman_gain_denominator)\n",
    "    \n",
    "    #getting the kalman gain matrix\n",
    "    kalman_gain_matrix = np.matrix(np.diag(np.divide(kalman_numerator_list,kalman_denominator_list)))\n",
    "    \n",
    "    return kalman_gain_matrix"
   ]
  },
  {
   "cell_type": "markdown",
   "metadata": {},
   "source": [
    "Now we will write a function to process the next/newest observation: $\\vec{Y_k} = C \\vec{Y_{k_{measured}}} + \\vec{Z_k} $\n",
    "\n",
    "$C$ is a reshaping matrix and $Z$ is the apparatus error/ adjustment error"
   ]
  },
  {
   "cell_type": "code",
   "execution_count": 7,
   "metadata": {},
   "outputs": [],
   "source": [
    "def process_next_observation(observation_vector,adjustment_noise= np.zeros((4,1))):\n",
    "    #defining the C matrix\n",
    "    C = np.identity(4)\n",
    "    \n",
    "    # processing the observation\n",
    "    y_new = C * observation_vector + adjustment_noise\n",
    "    \n",
    "    return y_new"
   ]
  },
  {
   "cell_type": "markdown",
   "metadata": {},
   "source": [
    "We are now going to calculate a new adjusted state vector of where we believe our object is going to be: $ \\vec{X_{k}} = \\vec{X_{k_p}} + K \\times (\\vec{Y_{k}} - H \\vec{X_{k_p}}) $"
   ]
  },
  {
   "cell_type": "code",
   "execution_count": 8,
   "metadata": {},
   "outputs": [],
   "source": [
    "def calculate_updated_state(kalman_gain_matrix,predicted_state_vector,observation_vector):\n",
    "    # defining the H matrix\n",
    "    H = np.identity(4)\n",
    "    \n",
    "    #calculating the new x vector\n",
    "    x_updated_vector = predicted_state_vector + kalman_gain_matrix * (observation_vector - predicted_state_vector)\n",
    "    \n",
    "    return x_updated_vector"
   ]
  },
  {
   "cell_type": "markdown",
   "metadata": {},
   "source": [
    "Now we will calculate the updated process covariance matrix: $ P_k = (I - K H) P_{k_{p}} $ \n",
    "\n",
    "where $ P_{k_p} $ is the predicted process covariance matrix calculated from before, $I$ is the identity matrix, $K$ is the Kalman Gain matrix, and $H$ is a reshaping matrix"
   ]
  },
  {
   "cell_type": "code",
   "execution_count": 9,
   "metadata": {},
   "outputs": [],
   "source": [
    "def calculate_updated_process_covariance_matrix(kalman_gain_matrix,process_covariance_matrix):\n",
    "    #defining the I and H matrices\n",
    "    I = np.identity(4)\n",
    "    H = np.identity(4)\n",
    "    \n",
    "    # calculating the updated covariance matrix\n",
    "    p_updated = (I - kalman_gain_matrix * H) * process_covariance_matrix\n",
    "    \n",
    "    return p_updated"
   ]
  },
  {
   "cell_type": "markdown",
   "metadata": {},
   "source": [
    "We have written all the functions above, now we will write a simple loop to filter through"
   ]
  },
  {
   "cell_type": "code",
   "execution_count": 29,
   "metadata": {},
   "outputs": [
    {
     "ename": "SyntaxError",
     "evalue": "invalid syntax (<ipython-input-29-4bf75d13e319>, line 1)",
     "output_type": "error",
     "traceback": [
      "\u001b[0;36m  File \u001b[0;32m\"<ipython-input-29-4bf75d13e319>\"\u001b[0;36m, line \u001b[0;32m1\u001b[0m\n\u001b[0;31m    observation_matrix = np.matrix([]) '''insert the data you want here'''\u001b[0m\n\u001b[0m                                                                         ^\u001b[0m\n\u001b[0;31mSyntaxError\u001b[0m\u001b[0;31m:\u001b[0m invalid syntax\n"
     ]
    }
   ],
   "source": [
    "observation_matrix = np.matrix([]) ''' <----- insert the data you want here'''"
   ]
  },
  {
   "cell_type": "code",
   "execution_count": 25,
   "metadata": {},
   "outputs": [
    {
     "name": "stdout",
     "output_type": "stream",
     "text": [
      "[[4271.9047619 ]\n",
      " [          nan]\n",
      " [ 280.81967213]\n",
      " [          nan]]\n",
      "[[252.97619048   0.           0.           0.        ]\n",
      " [         nan          nan          nan          nan]\n",
      " [  0.           0.          14.75409836   0.        ]\n",
      " [         nan          nan          nan          nan]]\n",
      "[[ 0.        ]\n",
      " [ 0.        ]\n",
      " [14.75409836]\n",
      " [ 0.        ]]\n",
      "[[2548.02380952]\n",
      " [          nan]\n",
      " [ 166.47540984]\n",
      " [          nan]]\n",
      "[[252.97619048   0.           0.           0.        ]\n",
      " [         nan          nan          nan          nan]\n",
      " [  0.           0.          14.75409836   0.        ]\n",
      " [         nan          nan          nan          nan]]\n",
      "[[ 0.        ]\n",
      " [ 0.        ]\n",
      " [14.75409836]\n",
      " [ 0.        ]]\n"
     ]
    },
    {
     "name": "stderr",
     "output_type": "stream",
     "text": [
      "/Users/Ravi/anaconda3/lib/python3.7/site-packages/ipykernel_launcher.py:15: RuntimeWarning: invalid value encountered in true_divide\n",
      "  from ipykernel import kernelapp as app\n"
     ]
    }
   ],
   "source": [
    "#define the initial state variables\n",
    "x_initial = np.reshape(observation_matrix[0],(4,1))\n",
    "p_initial = np.matrix(np.diag([]))  ''' <------- initialise the covariance matrix by writing in values d1, d2, etc..'''\n",
    "\n",
    "# set up the current variables\n",
    "x_current = x_initial\n",
    "p_current = p_initial\n",
    "\n",
    "n = 10\n",
    "\n",
    "for k in range(1,3):\n",
    "    #calculate the predicted state\n",
    "    x_predicted = calculate_predicted_state(x_current,ctrl_matrix,dt,noise_matrix)\n",
    "\n",
    "    # calculate the predicted covariance matrix\n",
    "    p_predicted = calculate_new_covariance_matrix(p_current, dt ,noise_matrix)\n",
    "\n",
    "    # calculate the Kalman Gain matrix\n",
    "    kalman_gain_matrix = calculate_kalman_gain(p_predicted, measurement_noise_matrix) \n",
    "\n",
    "    # process the newest observation\n",
    "    observation = np.reshape(observation_matrix[k],(4,1))\n",
    "\n",
    "    processed_observation = process_next_observation(observation,noise_matrix)\n",
    "\n",
    "    # calculate the updated state\n",
    "    x_updated = calculate_updated_state(kalman_gain_matrix,x_predicted,processed_observation)\n",
    "\n",
    "    # calculating the updated process covariance matrix\n",
    "    p_updated = calculate_updated_process_covariance_matrix(kalman_gain_matrix,p_predicted)\n",
    "\n",
    "    print(x_updated)\n",
    "    print(p_updated)\n",
    "    print(np.resize(p_updated[2],(4,1)))"
   ]
  },
  {
   "cell_type": "code",
   "execution_count": null,
   "metadata": {},
   "outputs": [],
   "source": []
  },
  {
   "cell_type": "code",
   "execution_count": null,
   "metadata": {},
   "outputs": [],
   "source": []
  }
 ],
 "metadata": {
  "kernelspec": {
   "display_name": "Python 3",
   "language": "python",
   "name": "python3"
  },
  "language_info": {
   "codemirror_mode": {
    "name": "ipython",
    "version": 3
   },
   "file_extension": ".py",
   "mimetype": "text/x-python",
   "name": "python",
   "nbconvert_exporter": "python",
   "pygments_lexer": "ipython3",
   "version": "3.7.3"
  }
 },
 "nbformat": 4,
 "nbformat_minor": 2
}
